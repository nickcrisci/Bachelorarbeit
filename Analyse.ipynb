{
 "cells": [
  {
   "cell_type": "code",
   "execution_count": 3,
   "id": "bc79472b",
   "metadata": {},
   "outputs": [],
   "source": [
    "import csv"
   ]
  },
  {
   "cell_type": "code",
   "execution_count": 1,
   "id": "e852f416",
   "metadata": {},
   "outputs": [],
   "source": [
    "subjects = {\n",
    "    1: [\"male\", 52],\n",
    "    2: [\"male\", 40],\n",
    "    3: [\"female\", 35],\n",
    "    4: [\"female\", 44],\n",
    "    5: [\"male\", 21],\n",
    "    6: [\"female\", 21],\n",
    "    7: [\"male\", 51],\n",
    "    8: [\"female\", 51],\n",
    "    9: [\"male\", 14],\n",
    "    10: [\"male\", 23],\n",
    "    11: [\"female\", 23],\n",
    "    12: [\"male\", 52]\n",
    "}"
   ]
  },
  {
   "cell_type": "code",
   "execution_count": 10,
   "id": "c70973f9",
   "metadata": {},
   "outputs": [
    {
     "name": "stdout",
     "output_type": "stream",
     "text": [
      "Noch keine Daten\n"
     ]
    }
   ],
   "source": [
    "for i in range(1, 13):\n",
    "    try:\n",
    "        filename_drea = f\"{str(i).zfill(2)}-drea.txt\"\n",
    "        filename_normal = f\"{str(i).zfill(2)}-normal.txt\"\n",
    "        log_to_csv(filename_drea, filename_normal)\n",
    "    except:\n",
    "        print(\"Noch keine Daten\")"
   ]
  },
  {
   "cell_type": "code",
   "execution_count": 30,
   "id": "c5ed5718",
   "metadata": {},
   "outputs": [
    {
     "name": "stdout",
     "output_type": "stream",
     "text": [
      "Fehler\n",
      "Durchgang 02 im Modus drea 20.37 Minuten gedauert.\n",
      "Durchgang 02 im Modus normal 16.13 Minuten gedauert.\n",
      "Durchgang 03 im Modus drea 28.68 Minuten gedauert.\n",
      "Durchgang 03 im Modus normal 21.89 Minuten gedauert.\n",
      "Durchgang 04 im Modus drea 28.79 Minuten gedauert.\n",
      "Durchgang 04 im Modus normal 15.43 Minuten gedauert.\n",
      "Durchgang 05 im Modus drea 13.48 Minuten gedauert.\n",
      "Durchgang 05 im Modus normal 12.59 Minuten gedauert.\n",
      "Durchgang 06 im Modus drea 15.05 Minuten gedauert.\n",
      "Durchgang 06 im Modus normal 13.62 Minuten gedauert.\n",
      "Durchgang 07 im Modus drea 26.13 Minuten gedauert.\n",
      "Durchgang 07 im Modus normal 13.65 Minuten gedauert.\n",
      "Fehler\n",
      "Fehler\n",
      "Fehler\n",
      "Fehler\n",
      "Fehler\n"
     ]
    }
   ],
   "source": []
  },
  {
   "cell_type": "code",
   "execution_count": 27,
   "id": "73a4d0ec",
   "metadata": {},
   "outputs": [
    {
     "name": "stdout",
     "output_type": "stream",
     "text": [
      "03-drea.txt\n",
      "06-normal.txt\n"
     ]
    }
   ],
   "source": [
    "log_to_csv(\"03-drea.txt\",\"06-normal.txt\" )\n",
    "#log_to_csv(\"06-normal.txt\")"
   ]
  },
  {
   "cell_type": "code",
   "execution_count": 26,
   "id": "67bd5e45",
   "metadata": {},
   "outputs": [],
   "source": [
    "import pandas as pd"
   ]
  },
  {
   "cell_type": "code",
   "execution_count": 53,
   "id": "0a8de336",
   "metadata": {},
   "outputs": [
    {
     "data": {
      "text/html": [
       "<div>\n",
       "<style scoped>\n",
       "    .dataframe tbody tr th:only-of-type {\n",
       "        vertical-align: middle;\n",
       "    }\n",
       "\n",
       "    .dataframe tbody tr th {\n",
       "        vertical-align: top;\n",
       "    }\n",
       "\n",
       "    .dataframe thead th {\n",
       "        text-align: right;\n",
       "    }\n",
       "</style>\n",
       "<table border=\"1\" class=\"dataframe\">\n",
       "  <thead>\n",
       "    <tr style=\"text-align: right;\">\n",
       "      <th></th>\n",
       "      <th>id</th>\n",
       "      <th>mode</th>\n",
       "      <th>time</th>\n",
       "      <th>sex</th>\n",
       "      <th>age</th>\n",
       "    </tr>\n",
       "  </thead>\n",
       "  <tbody>\n",
       "    <tr>\n",
       "      <th>1</th>\n",
       "      <td>2</td>\n",
       "      <td>normal</td>\n",
       "      <td>16.13</td>\n",
       "      <td>male</td>\n",
       "      <td>40</td>\n",
       "    </tr>\n",
       "    <tr>\n",
       "      <th>5</th>\n",
       "      <td>4</td>\n",
       "      <td>normal</td>\n",
       "      <td>15.43</td>\n",
       "      <td>female</td>\n",
       "      <td>44</td>\n",
       "    </tr>\n",
       "    <tr>\n",
       "      <th>7</th>\n",
       "      <td>5</td>\n",
       "      <td>normal</td>\n",
       "      <td>12.59</td>\n",
       "      <td>male</td>\n",
       "      <td>21</td>\n",
       "    </tr>\n",
       "    <tr>\n",
       "      <th>9</th>\n",
       "      <td>6</td>\n",
       "      <td>normal</td>\n",
       "      <td>13.62</td>\n",
       "      <td>female</td>\n",
       "      <td>21</td>\n",
       "    </tr>\n",
       "    <tr>\n",
       "      <th>11</th>\n",
       "      <td>7</td>\n",
       "      <td>normal</td>\n",
       "      <td>13.65</td>\n",
       "      <td>male</td>\n",
       "      <td>51</td>\n",
       "    </tr>\n",
       "    <tr>\n",
       "      <th>13</th>\n",
       "      <td>8</td>\n",
       "      <td>normal</td>\n",
       "      <td>18.59</td>\n",
       "      <td>female</td>\n",
       "      <td>51</td>\n",
       "    </tr>\n",
       "    <tr>\n",
       "      <th>15</th>\n",
       "      <td>9</td>\n",
       "      <td>normal</td>\n",
       "      <td>16.13</td>\n",
       "      <td>male</td>\n",
       "      <td>14</td>\n",
       "    </tr>\n",
       "    <tr>\n",
       "      <th>17</th>\n",
       "      <td>10</td>\n",
       "      <td>normal</td>\n",
       "      <td>12.13</td>\n",
       "      <td>male</td>\n",
       "      <td>23</td>\n",
       "    </tr>\n",
       "    <tr>\n",
       "      <th>19</th>\n",
       "      <td>11</td>\n",
       "      <td>normal</td>\n",
       "      <td>15.48</td>\n",
       "      <td>female</td>\n",
       "      <td>23</td>\n",
       "    </tr>\n",
       "    <tr>\n",
       "      <th>21</th>\n",
       "      <td>12</td>\n",
       "      <td>normal</td>\n",
       "      <td>18.21</td>\n",
       "      <td>male</td>\n",
       "      <td>52</td>\n",
       "    </tr>\n",
       "  </tbody>\n",
       "</table>\n",
       "</div>"
      ],
      "text/plain": [
       "    id    mode   time     sex  age\n",
       "1    2  normal  16.13    male   40\n",
       "5    4  normal  15.43  female   44\n",
       "7    5  normal  12.59    male   21\n",
       "9    6  normal  13.62  female   21\n",
       "11   7  normal  13.65    male   51\n",
       "13   8  normal  18.59  female   51\n",
       "15   9  normal  16.13    male   14\n",
       "17  10  normal  12.13    male   23\n",
       "19  11  normal  15.48  female   23\n",
       "21  12  normal  18.21    male   52"
      ]
     },
     "execution_count": 53,
     "metadata": {},
     "output_type": "execute_result"
    }
   ],
   "source": [
    "timedata = pd.read_csv(\"time.csv\")\n",
    "time_filter = timedata[\"time\"] < 20\n",
    "mode_filter = timedata[\"mode\"] == \"normal\"\n",
    "\n",
    "_filter = time_filter & mode_filter\n",
    "timedata[_filter]"
   ]
  },
  {
   "cell_type": "code",
   "execution_count": null,
   "id": "31643bc6",
   "metadata": {},
   "outputs": [],
   "source": [
    "for i in range(2, 8):\n",
    "    print(\"######################\\n\")\n",
    "    drea = count_actions_for_word(f\"0{i}-drea.csv\")\n",
    "    normal = count_actions_for_word(f\"0{i}-normal.csv\")\n",
    "    drea_counter = 0\n",
    "    normal_counter = 0\n",
    "    for key, value in drea.items():\n",
    "        drea_counter += drea[key]\n",
    "        normal_counter += normal[key]\n",
    "        #print(f\"Wort: {key}; Drea Modus: {drea[key]}; Normaler Modus: {normal[key]}\")\n",
    "        \n",
    "        print(f\"Im DREA Modus waren es {normal[key] - drea[key]} weniger/mehr\")\n",
    "\n",
    "    print(f\"\\nInsgesamt waren es {drea_counter} Interaktionen im DREA Modus\")\n",
    "    print(f\"Insgesamt waren es {normal_counter} Interaktionen im normal Modus\\n\")\n",
    "    print(\"######################\\n\")"
   ]
  },
  {
   "cell_type": "code",
   "execution_count": 7,
   "id": "df587e96",
   "metadata": {},
   "outputs": [],
   "source": [
    "def calc_time(*filenames):\n",
    "    start = 0\n",
    "    end = 0\n",
    "    for filename in filenames:\n",
    "        with open(filename, \"r\") as file:\n",
    "            for line in file:\n",
    "                if \"START\" in line:\n",
    "                    data = line.split(\",\")\n",
    "                    start = int(data[1])\n",
    "                if \"END\" in line: \n",
    "                    data = line.split(\",\")\n",
    "                    end = int(data[1])\n",
    "        time = (end - start) / 1000 / 60\n",
    "        _filename = filename.split(\"-\")\n",
    "        _id = _filename[0]\n",
    "        mode = _filename[1].split(\".\")[0]\n",
    "        #print(f\"Durchgang {person} im Modus {mode} {round(time, 2)} Minuten gedauert.\")\n",
    "        yield (_id, mode, round(time, 2))"
   ]
  },
  {
   "cell_type": "code",
   "execution_count": 25,
   "id": "ee3d83fb",
   "metadata": {},
   "outputs": [],
   "source": [
    "with open(\"time.csv\", \"w\", newline='') as csvfile:\n",
    "    writer = csv.writer(csvfile, delimiter=\",\")\n",
    "    writer.writerow([\"id\", \"mode\", \"time\", \"sex\", \"age\"])\n",
    "    for i in range(2, 13):\n",
    "            try:\n",
    "                filename_drea = f\"{str(i).zfill(2)}-drea.csv\"\n",
    "                filename_normal = f\"{str(i).zfill(2)}-normal.csv\"\n",
    "                for run in calc_time(filename_drea, filename_normal):\n",
    "                    subject = list(run) + subjects[i]\n",
    "                    writer.writerow(subject)\n",
    "\n",
    "            except:\n",
    "                print(\"Fehler\")"
   ]
  },
  {
   "cell_type": "code",
   "execution_count": null,
   "id": "2c58aeb8",
   "metadata": {},
   "outputs": [],
   "source": []
  },
  {
   "cell_type": "code",
   "execution_count": 8,
   "id": "2930a5a3",
   "metadata": {},
   "outputs": [],
   "source": [
    "# Verwandelt eine Log Datei in eine CSV Datei (vorher muss Fehler Log entfernt werden)\n",
    "def log_to_csv(*filenames):  \n",
    "    for filename in filenames:\n",
    "        with open(filename, \"r\") as file:\n",
    "            with open(filename.split(\".txt\")[0] + \".csv\", \"w\", newline='') as csvfile:\n",
    "                writer = csv.writer(csvfile, delimiter=\",\")\n",
    "                writer.writerow([\"event\",\"timestamp\",\"button\",\"finger\",\"word\"])\n",
    "                for line in file:\n",
    "                    if \"beginning\" in line or \"Proband\" in line:\n",
    "                        continue\n",
    "                    data = line.split(\"{\")[1].split(\"}\")[0].split(\",\")\n",
    "                    writer.writerow(data)"
   ]
  },
  {
   "cell_type": "code",
   "execution_count": 18,
   "id": "9a9cf583",
   "metadata": {},
   "outputs": [],
   "source": [
    "# Erzeugt ein Dict aus Worten und für das Wort notwendige Aktionen (kann verglichen werden)\n",
    "def count_actions_for_word(filename):\n",
    "    counter = 0\n",
    "    old_word = None\n",
    "    word_dict = dict()\n",
    "    with open(filename, \"r\") as file:\n",
    "        for line in file:\n",
    "            # Wenn das nächste Wort angezeigt wird\n",
    "            if \"WORD_NEXT\" in line:\n",
    "                # Daten aufteilen\n",
    "                data = line.split(\",\")\n",
    "                # Test ob es das erste Wort ist\n",
    "                if old_word == None:\n",
    "                    old_word = data[4]\n",
    "                    continue\n",
    "                    \n",
    "                old_word = data[4]\n",
    "            if \"WORD_DONE\" in line:\n",
    "                data = line.split(\",\")\n",
    "                word_dict[old_word.strip()] = counter\n",
    "                counter = 0\n",
    "                    \n",
    "            if \"CHAR_SELECTED\" in line or \"CHAR_CLICKED\" in line:\n",
    "                counter = counter + 1\n",
    "\n",
    "        return word_dict"
   ]
  }
 ],
 "metadata": {
  "kernelspec": {
   "display_name": "Python 3 (ipykernel)",
   "language": "python",
   "name": "python3"
  },
  "language_info": {
   "codemirror_mode": {
    "name": "ipython",
    "version": 3
   },
   "file_extension": ".py",
   "mimetype": "text/x-python",
   "name": "python",
   "nbconvert_exporter": "python",
   "pygments_lexer": "ipython3",
   "version": "3.9.7"
  }
 },
 "nbformat": 4,
 "nbformat_minor": 5
}
